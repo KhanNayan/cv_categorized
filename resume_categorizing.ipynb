{
 "cells": [
  {
   "cell_type": "code",
   "execution_count": 71,
   "metadata": {},
   "outputs": [],
   "source": [
    "import pickle\n",
    "import numpy as np\n",
    "import pandas as pd\n",
    "from sklearn.model_selection import train_test_split\n",
    "from sklearn.preprocessing import LabelEncoder\n",
    "from tensorflow.keras.preprocessing.text import Tokenizer\n",
    "from tensorflow.keras.preprocessing.sequence import pad_sequences\n",
    "import tensorflow as tf"
   ]
  },
  {
   "cell_type": "code",
   "execution_count": 72,
   "metadata": {},
   "outputs": [],
   "source": [
    "#dataset loading\n",
    "data = pd.read_csv('data_set/Resume/processed_resume.csv')\n",
    "\n",
    "#there is some null value in resume column\n",
    "data['Resume_str'] = data['Resume_str'].fillna('')"
   ]
  },
  {
   "cell_type": "code",
   "execution_count": 73,
   "metadata": {},
   "outputs": [
    {
     "name": "stdout",
     "output_type": "stream",
     "text": [
      "[19 19 19 ...  6  6  6]\n"
     ]
    }
   ],
   "source": [
    "#converting string to numerical values\n",
    "label_encoder = LabelEncoder()\n",
    "y = label_encoder.fit_transform(data['Category'])\n",
    "print(y)"
   ]
  },
  {
   "cell_type": "code",
   "execution_count": 74,
   "metadata": {},
   "outputs": [],
   "source": [
    "with open('model/label_encoder_pickle.pkl', 'wb') as encoder_file:\n",
    "    pickle.dump(label_encoder, encoder_file)"
   ]
  },
  {
   "cell_type": "code",
   "execution_count": 75,
   "metadata": {},
   "outputs": [],
   "source": [
    "max_words = 6000\n",
    "tokenizer = Tokenizer(num_words=max_words, oov_token=\"<OOV>\")\n",
    "tokenizer.fit_on_texts(data['Resume_str'])\n",
    "X = tokenizer.texts_to_sequences(data['Resume_str'])\n"
   ]
  },
  {
   "cell_type": "code",
   "execution_count": 76,
   "metadata": {},
   "outputs": [
    {
     "data": {
      "text/plain": [
       "5128"
      ]
     },
     "execution_count": 76,
     "metadata": {},
     "output_type": "execute_result"
    }
   ],
   "source": [
    "max_sequence_length = max(len(seq) for seq in X)\n",
    "max_sequence_length"
   ]
  },
  {
   "cell_type": "code",
   "execution_count": 77,
   "metadata": {},
   "outputs": [
    {
     "data": {
      "text/plain": [
       "array([235,   8, 298, ...,   0,   0,   0])"
      ]
     },
     "execution_count": 77,
     "metadata": {},
     "output_type": "execute_result"
    }
   ],
   "source": [
    "max_sequence_length = 1200 #because orginal max len will take too long time\n",
    "X_padded = pad_sequences(X, padding='post', maxlen=max_sequence_length)\n",
    "X_padded[55]"
   ]
  },
  {
   "cell_type": "code",
   "execution_count": 78,
   "metadata": {},
   "outputs": [
    {
     "data": {
      "text/plain": [
       "(1987, 1200)"
      ]
     },
     "execution_count": 78,
     "metadata": {},
     "output_type": "execute_result"
    }
   ],
   "source": [
    "#Split data into training and testing sets\n",
    "X_train, X_test, y_train, y_test = train_test_split(X_padded, y, test_size=0.2, random_state=42)\n",
    "X_train.shape"
   ]
  },
  {
   "cell_type": "code",
   "execution_count": 79,
   "metadata": {},
   "outputs": [
    {
     "data": {
      "text/plain": [
       "(1987,)"
      ]
     },
     "execution_count": 79,
     "metadata": {},
     "output_type": "execute_result"
    }
   ],
   "source": [
    "y_train.shape"
   ]
  },
  {
   "cell_type": "code",
   "execution_count": 80,
   "metadata": {},
   "outputs": [],
   "source": [
    "X_train = np.array(X_train)\n",
    "X_test = np.array(X_test)\n",
    "\n",
    "# Labels\n",
    "y_train = np.array(y_train)\n",
    "y_test = np.array(y_test)"
   ]
  },
  {
   "cell_type": "code",
   "execution_count": 81,
   "metadata": {},
   "outputs": [],
   "source": [
    "from tensorflow.keras.models import Sequential\n",
    "from tensorflow.keras.layers import Embedding, LSTM, Dense, Dropout, Bidirectional"
   ]
  },
  {
   "cell_type": "code",
   "execution_count": 82,
   "metadata": {},
   "outputs": [],
   "source": [
    "#intializing model\n",
    "embedding_dim = 64\n",
    "model = Sequential([\n",
    "    Embedding(max_words, embedding_dim, input_length=max_sequence_length),\n",
    "    Bidirectional(LSTM(64)),\n",
    "    Dense(64, activation='relu'),\n",
    "    Dropout(0.1),\n",
    "    Dense(len(label_encoder.classes_), activation='softmax')\n",
    "])"
   ]
  },
  {
   "cell_type": "code",
   "execution_count": 83,
   "metadata": {},
   "outputs": [
    {
     "name": "stdout",
     "output_type": "stream",
     "text": [
      "Model: \"sequential_4\"\n",
      "_________________________________________________________________\n",
      " Layer (type)                Output Shape              Param #   \n",
      "=================================================================\n",
      " embedding_4 (Embedding)     (None, 1200, 64)          384000    \n",
      "                                                                 \n",
      " bidirectional_4 (Bidirectio  (None, 128)              66048     \n",
      " nal)                                                            \n",
      "                                                                 \n",
      " dense_8 (Dense)             (None, 64)                8256      \n",
      "                                                                 \n",
      " dropout_4 (Dropout)         (None, 64)                0         \n",
      "                                                                 \n",
      " dense_9 (Dense)             (None, 24)                1560      \n",
      "                                                                 \n",
      "=================================================================\n",
      "Total params: 459,864\n",
      "Trainable params: 459,864\n",
      "Non-trainable params: 0\n",
      "_________________________________________________________________\n"
     ]
    }
   ],
   "source": [
    "model.compile(loss='sparse_categorical_crossentropy', optimizer='adam', metrics=['accuracy'])\n",
    "model.summary()"
   ]
  },
  {
   "cell_type": "code",
   "execution_count": 84,
   "metadata": {},
   "outputs": [],
   "source": [
    "#call back method to ignore overfitting\n",
    "class CustomCallback(tf.keras.callbacks.Callback):\n",
    "    def on_epoch_end(self, epoch, logs=None):\n",
    "        threshold = 0.90\n",
    "        accuracy = logs.get('accuracy') \n",
    "        if accuracy is not None and accuracy >= threshold:\n",
    "            print(f\"accuracy reached to {threshold}\")\n",
    "            model.stop_training = True"
   ]
  },
  {
   "cell_type": "code",
   "execution_count": 85,
   "metadata": {},
   "outputs": [
    {
     "name": "stdout",
     "output_type": "stream",
     "text": [
      "Epoch 1/10\n",
      "112/112 [==============================] - 47s 405ms/step - loss: 3.0978 - accuracy: 0.1298 - val_loss: 2.8326 - val_accuracy: 0.2211\n",
      "Epoch 2/10\n",
      "112/112 [==============================] - 44s 390ms/step - loss: 2.2145 - accuracy: 0.3909 - val_loss: 1.6878 - val_accuracy: 0.5729\n",
      "Epoch 3/10\n",
      "112/112 [==============================] - 45s 399ms/step - loss: 1.4686 - accuracy: 0.5889 - val_loss: 1.3626 - val_accuracy: 0.6583\n",
      "Epoch 4/10\n",
      "112/112 [==============================] - 44s 391ms/step - loss: 1.0653 - accuracy: 0.7058 - val_loss: 1.3361 - val_accuracy: 0.6583\n",
      "Epoch 5/10\n",
      "112/112 [==============================] - 44s 389ms/step - loss: 0.8069 - accuracy: 0.7919 - val_loss: 1.4703 - val_accuracy: 0.6533\n",
      "Epoch 6/10\n",
      "112/112 [==============================] - 44s 394ms/step - loss: 0.5990 - accuracy: 0.8406 - val_loss: 1.4825 - val_accuracy: 0.6583\n",
      "Epoch 7/10\n",
      "112/112 [==============================] - ETA: 0s - loss: 0.4558 - accuracy: 0.8842accuracy reached to 0.85\n",
      "112/112 [==============================] - 43s 388ms/step - loss: 0.4558 - accuracy: 0.8842 - val_loss: 1.7259 - val_accuracy: 0.6432\n"
     ]
    }
   ],
   "source": [
    "custom_callback = CustomCallback()\n",
    "#train the model\n",
    "epochs = 10\n",
    "batch_size = 16\n",
    "history = model.fit(\n",
    "    X_train, y_train,\n",
    "    epochs=epochs, batch_size=batch_size,\n",
    "    validation_split=0.1,\n",
    "    callbacks=[custom_callback]\n",
    ")"
   ]
  },
  {
   "cell_type": "code",
   "execution_count": 86,
   "metadata": {},
   "outputs": [
    {
     "name": "stdout",
     "output_type": "stream",
     "text": [
      "16/16 [==============================] - 2s 131ms/step - loss: 1.7889 - accuracy: 0.6177\n",
      "Test Loss: 1.7888742685317993, Test Accuracy: 0.6177062392234802\n"
     ]
    }
   ],
   "source": [
    "#evaluate the model\n",
    "test_loss, test_accuracy = model.evaluate(X_test, y_test)\n",
    "print(f\"Test Loss: {test_loss}, Test Accuracy: {test_accuracy}\")"
   ]
  },
  {
   "cell_type": "code",
   "execution_count": 87,
   "metadata": {},
   "outputs": [],
   "source": [
    "#Save the model\n",
    "model.save('model/resume_category_model.h5')"
   ]
  },
  {
   "cell_type": "code",
   "execution_count": null,
   "metadata": {},
   "outputs": [],
   "source": []
  }
 ],
 "metadata": {
  "kernelspec": {
   "display_name": "Python 3",
   "language": "python",
   "name": "python3"
  },
  "language_info": {
   "codemirror_mode": {
    "name": "ipython",
    "version": 3
   },
   "file_extension": ".py",
   "mimetype": "text/x-python",
   "name": "python",
   "nbconvert_exporter": "python",
   "pygments_lexer": "ipython3",
   "version": "3.10.0"
  },
  "orig_nbformat": 4
 },
 "nbformat": 4,
 "nbformat_minor": 2
}
